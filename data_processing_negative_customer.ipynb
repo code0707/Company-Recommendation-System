{
 "cells": [
  {
   "cell_type": "code",
   "execution_count": 2,
   "metadata": {},
   "outputs": [],
   "source": [
    "import pandas as pd"
   ]
  },
  {
   "cell_type": "code",
   "execution_count": 4,
   "metadata": {},
   "outputs": [
    {
     "name": "stderr",
     "output_type": "stream",
     "text": [
      "b'Skipping line 3009: expected 11 fields, saw 12\\nSkipping line 3481: expected 11 fields, saw 13\\nSkipping line 5608: expected 11 fields, saw 12\\n'\n"
     ]
    }
   ],
   "source": [
    "df = pd.read_csv(\"C:/Users/KIIT/Desktop/Companies/Semiconductor_V.chains.csv\",encoding='latin-1', error_bad_lines=False)"
   ]
  },
  {
   "cell_type": "code",
   "execution_count": 5,
   "metadata": {},
   "outputs": [],
   "source": [
    "df1 = pd.read_csv(\"C:/Users/KIIT/Desktop/Companies/Semiconductor Corporate profiles.csv\",encoding='latin-1')"
   ]
  },
  {
   "cell_type": "code",
   "execution_count": 10,
   "metadata": {},
   "outputs": [],
   "source": [
    "# For considering only those organization from V-chains that are in corporate profile csv\n",
    "\n",
    "l1=list(df1[\"Organization Name\"])\n",
    "l2=[]\n",
    "for i in range(df.shape[0]):\n",
    "    l = list(df.iloc[i])\n",
    "    if(l[3] in l1):\n",
    "        l2.append(l)"
   ]
  },
  {
   "cell_type": "code",
   "execution_count": 11,
   "metadata": {},
   "outputs": [],
   "source": [
    "#making datraframe of the above formed list with no column heads\n",
    "df2 = pd.DataFrame(l2)"
   ]
  },
  {
   "cell_type": "code",
   "execution_count": 16,
   "metadata": {},
   "outputs": [],
   "source": [
    "#putting column heads and finalizing the list --> so we have all the organization whose names are in corporate profile\n",
    "df3=pd.DataFrame()\n",
    "count=0\n",
    "for i in df:\n",
    "    df3[i]=df2[count]\n",
    "    count=count+1"
   ]
  },
  {
   "cell_type": "code",
   "execution_count": 38,
   "metadata": {},
   "outputs": [],
   "source": [
    "l=[]\n",
    "for i in range(df3.shape[0]):\n",
    "    count=0\n",
    "    for j in range(df3.shape[0]):\n",
    "        if(df3.iloc[i][2]!=df3.iloc[j][2]): #if category is not same\n",
    "            l1=[]\n",
    "            l1.append(list(df3.iloc[i])[3])#add the organization name\n",
    "            l1.append(list(df3.iloc[j])[3])#add the customer name which is just another organization name\n",
    "            l.append(l1) #l is a list whose each element contains list of organization and impossible customer\n",
    "            count=count+1\n",
    "            if(count==5):\n",
    "                break"
   ]
  },
  {
   "cell_type": "code",
   "execution_count": 39,
   "metadata": {},
   "outputs": [],
   "source": [
    "df4=pd.DataFrame(l)#stores the name of organization and impossible customer\n",
    "df5=pd.DataFrame()\n",
    "df5[\"Organization Name\"]=df4[0]\n",
    "df5[\"Impossible Customer\"]=df4[1]\n",
    "#df5 is a dataframe along with the heads mentioned --> so a proper dataset of company and impossible customer is made"
   ]
  },
  {
   "cell_type": "code",
   "execution_count": 57,
   "metadata": {},
   "outputs": [
    {
     "data": {
      "text/plain": [
       "(337, 2)"
      ]
     },
     "execution_count": 57,
     "metadata": {},
     "output_type": "execute_result"
    }
   ],
   "source": [
    "df5.shape"
   ]
  },
  {
   "cell_type": "code",
   "execution_count": 52,
   "metadata": {},
   "outputs": [],
   "source": [
    "from sklearn.model_selection import train_test_split #ran it 2 times to get random combinations\n",
    "p=train_test_split(df5,test_size=0.90, random_state=42)\n",
    "df5=p[0] #in df5 we have our final data --> now we will add the customer and company profiles to it from df1 where we have profile details"
   ]
  },
  {
   "cell_type": "code",
   "execution_count": 61,
   "metadata": {},
   "outputs": [],
   "source": [
    "result = pd.merge(df5, df1, on='Organization Name')#merged df1 and df5 on the basis of organization name"
   ]
  },
  {
   "cell_type": "code",
   "execution_count": 63,
   "metadata": {},
   "outputs": [],
   "source": [
    "df6=pd.DataFrame()\n",
    "df6[\"Org Name\"]=df5[\"Organization Name\"]\n",
    "df6[\"Organization Name\"]=df5[\"Impossible Customer\"]"
   ]
  },
  {
   "cell_type": "code",
   "execution_count": 66,
   "metadata": {},
   "outputs": [],
   "source": [
    "result1=pd.merge(df6,df1,on='Organization Name')#merged df1 and df6 on the basis of organization name which are basically impossible customer"
   ]
  },
  {
   "cell_type": "code",
   "execution_count": 72,
   "metadata": {},
   "outputs": [],
   "source": [
    "#creating result2 so that we can merge on the basis of impossible customer\n",
    "result2=pd.DataFrame()\n",
    "for i in result1:\n",
    "    if(i!=\"Organization Name\"):\n",
    "        result2[i]=result1[i]\n",
    "    else:\n",
    "        result2[\"Impossible Customer\"]=result1[i]"
   ]
  },
  {
   "cell_type": "code",
   "execution_count": 74,
   "metadata": {},
   "outputs": [],
   "source": [
    "final=pd.merge(result,result2,on='Impossible Customer')"
   ]
  },
  {
   "cell_type": "code",
   "execution_count": 78,
   "metadata": {},
   "outputs": [],
   "source": [
    "final.to_csv(\"C:/Users/KIIT/Desktop/Companies/accurate_negative_final.csv\")"
   ]
  },
  {
   "cell_type": "code",
   "execution_count": null,
   "metadata": {},
   "outputs": [],
   "source": []
  }
 ],
 "metadata": {
  "kernelspec": {
   "display_name": "Python 3",
   "language": "python",
   "name": "python3"
  },
  "language_info": {
   "codemirror_mode": {
    "name": "ipython",
    "version": 3
   },
   "file_extension": ".py",
   "mimetype": "text/x-python",
   "name": "python",
   "nbconvert_exporter": "python",
   "pygments_lexer": "ipython3",
   "version": "3.7.3"
  }
 },
 "nbformat": 4,
 "nbformat_minor": 4
}
